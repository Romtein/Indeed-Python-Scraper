{
 "cells": [
  {
   "cell_type": "code",
   "execution_count": 2,
   "metadata": {},
   "outputs": [],
   "source": [
    "import os\n",
    "from selenium import webdriver\n",
    "from selenium.webdriver.common.keys import Keys\n",
    "\n",
    "import requests\n",
    "import bs4\n",
    "from bs4 import BeautifulSoup\n",
    "import pandas as pd\n",
    "import time\n",
    "\n",
    "import urllib.request\n",
    "from html.parser import HTMLParser\n",
    "\n",
    "#domain prefix for our user search\n",
    "url_prefix = \"https://www.indeed.com/jobs?q=\"\n",
    "\n",
    "#ask user what job they are looking for\n",
    "# user_job_input = input(\"What job title are you searching for?\")\n",
    "user_job_input = \"machine learning\"\n",
    "\n",
    "#add plus between words and &l at the end (ie: Machine+Learning&l=)\n",
    "user_job_search = '+'.join(user_job_input.lower().split())\n",
    "\n",
    "#Add location to url \n",
    "# user_location_input = input(\"What location do you want to search?\")\n",
    "user_location_input = \"california\"\n",
    "\n",
    "#Add &L and then location to url \n",
    "user_location_search = '&l=' + '+'.join(user_location_input.lower().split())\n",
    "\n",
    "#start browser session and search using the terms user inputted\n",
    "chromedriver = \"/home/romtein/chromedriver\"\n",
    "os.environ[\"webdriver.chrome.driver\"] = chromedriver\n",
    "driver = webdriver.Chrome(chromedriver)\n",
    "complete_url = url_prefix + user_job_search + user_location_search\n",
    "driver.get(url_prefix + user_job_search + user_location_search)\n",
    "\n",
    "htmlfile = urllib.request.urlopen(complete_url)\n",
    "page = requests.get(complete_url)\n",
    "soup = BeautifulSoup(page.text, 'html.parser')\n"
   ]
  },
  {
   "cell_type": "code",
   "execution_count": 4,
   "metadata": {},
   "outputs": [
    {
     "name": "stdout",
     "output_type": "stream",
     "text": [
      "[]\n"
     ]
    }
   ],
   "source": [
    "#compile urls of jobs into a list\n",
    "chromedriver = \"/home/romtein/chromedriver\"\n",
    "os.environ[\"webdriver.chrome.driver\"] = chromedriver\n",
    "driver = webdriver.Chrome(chromedriver)\n",
    "\n",
    "url_list= []\n",
    "long_job_description = []\n",
    "edited = []\n",
    "def get_urls(soup):\n",
    "    for link in soup.find_all(\"h2\", {\"class\":\"jobtitle\"}):\n",
    "        url_ending = link.a.get('href')\n",
    "        url_list.append('https://www.indeed.com' + url_ending)\n",
    "    return url_list\n",
    "\n",
    "get_urls(soup)\n",
    "\n",
    "i = 0\n",
    "for openinglinks in url_list:\n",
    "    driver.get(url_list[i])\n",
    "    time.sleep(1)\n",
    "    \n",
    "    #getting full description from newly opened page\n",
    "    body = soup.findAll('div', attrs={'class':'jobsearch-JobComponent-description'})\n",
    "    for span in body:\n",
    "        long_job_description.append(span.text.strip())\n",
    "    \n",
    "    #open new tab, switch to old tab and close, switch back to new tab\n",
    "    old_handle = driver.current_window_handle\n",
    "    driver.execute_script(\"window.open('');\")\n",
    "    new_handle = driver.window_handles[-1]\n",
    "    driver.switch_to.window(old_handle)\n",
    "    driver.close()\n",
    "    driver.switch_to.window(new_handle)\n",
    "    \n",
    "    i=i+1\n",
    "\n",
    "for line in long_job_description:\n",
    "    edited.extend(line.rstrip('\\n').split(' '))\n",
    "    edited = \" \".join(edited)\n",
    "    edited = edited.replace(\"\\n\", \" \")\n",
    "print(edited)\n"
   ]
  },
  {
   "cell_type": "code",
   "execution_count": 108,
   "metadata": {},
   "outputs": [],
   "source": [
    "#add the job title, salary and complete summary to  json or csv\n"
   ]
  },
  {
   "cell_type": "code",
   "execution_count": 109,
   "metadata": {},
   "outputs": [],
   "source": [
    "#analyze the list for the most common keywords\n",
    "#generate word cloud\n"
   ]
  }
 ],
 "metadata": {
  "kernelspec": {
   "display_name": "Python 3",
   "language": "python",
   "name": "python3"
  },
  "language_info": {
   "codemirror_mode": {
    "name": "ipython",
    "version": 3
   },
   "file_extension": ".py",
   "mimetype": "text/x-python",
   "name": "python",
   "nbconvert_exporter": "python",
   "pygments_lexer": "ipython3",
   "version": "3.6.5"
  }
 },
 "nbformat": 4,
 "nbformat_minor": 2
}
