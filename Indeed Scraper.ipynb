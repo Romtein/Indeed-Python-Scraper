{
 "cells": [
  {
   "cell_type": "code",
   "execution_count": 44,
   "metadata": {},
   "outputs": [
    {
     "name": "stdout",
     "output_type": "stream",
     "text": [
      "['https://ca.indeed.com/rc/clk?jk=367d8b902b68d3f8&fccid=c1099851e9794854&vjs=3', 'https://ca.indeed.com/rc/clk?jk=ce88df866ab66935&fccid=617d7f961cfcf54a&vjs=3', 'https://ca.indeed.com/rc/clk?jk=ef2303e47e9b088f&fccid=c1099851e9794854&vjs=3', 'https://ca.indeed.com/rc/clk?jk=a59d641b6d1296fa&fccid=f1374be6a45f4b8a&vjs=3', 'https://ca.indeed.com/rc/clk?jk=5693e29061f6b4f8&fccid=76db80a59e667757&vjs=3', 'https://ca.indeed.com/rc/clk?jk=f513d5d41442bf69&fccid=d8be85d73018fac8&vjs=3', 'https://ca.indeed.com/rc/clk?jk=c702774510734d66&fccid=8c49e99f20f89e48&vjs=3', 'https://ca.indeed.com/rc/clk?jk=f1ea667d50d200d5&fccid=a2be2e0191cb5bc4&vjs=3', 'https://ca.indeed.com/rc/clk?jk=be428ac2651aea52&fccid=822bc5d9a49270ea&vjs=3', 'https://ca.indeed.com/rc/clk?jk=a5438647c9a53ba6&fccid=a5b4499d9e91a5c6&vjs=3', 'https://ca.indeed.com/rc/clk?jk=c1fe5733c1b954ce&fccid=e15c9978061d7044&vjs=3', 'https://ca.indeed.com/rc/clk?jk=4dff281b50d17a0f&fccid=c8a6a0a1ccacc6a7&vjs=3', 'https://ca.indeed.com/rc/clk?jk=13eb9f6529813d93&fccid=474f8582476790be&vjs=3', 'https://ca.indeed.com/rc/clk?jk=f513d5d41442bf69&fccid=d8be85d73018fac8&vjs=3', 'https://ca.indeed.com/rc/clk?jk=5693e29061f6b4f8&fccid=76db80a59e667757&vjs=3', 'https://ca.indeed.com/rc/clk?jk=ef2303e47e9b088f&fccid=c1099851e9794854&vjs=3', 'https://ca.indeed.com/rc/clk?jk=f1ea667d50d200d5&fccid=a2be2e0191cb5bc4&vjs=3', 'https://ca.indeed.com/rc/clk?jk=059060c9b126e000&fccid=dc156e4b91443100&vjs=3', 'https://ca.indeed.com/rc/clk?jk=bbd18095724339f2&fccid=ec7026b814653f27&vjs=3', 'https://ca.indeed.com/rc/clk?jk=e4d7af5f9d905d21&fccid=9e0792004874024f&vjs=3', 'https://ca.indeed.com/rc/clk?jk=f41ac4767a23fce5&fccid=adec49a5729b60f3&vjs=3', 'https://ca.indeed.com/rc/clk?jk=092800403e52a823&fccid=d40ebe11fc879426&vjs=3', 'https://ca.indeed.com/rc/clk?jk=c1fe5733c1b954ce&fccid=e15c9978061d7044&vjs=3', 'https://ca.indeed.com/rc/clk?jk=f5d5f14582673e1b&fccid=c1099851e9794854&vjs=3', 'https://ca.indeed.com/rc/clk?jk=e6d62c3b66c43eed&fccid=f33adcecbae03a00&vjs=3', 'https://ca.indeed.com/rc/clk?jk=411b6d4f8684518a&fccid=2b739220b706e0cc&vjs=3', 'https://ca.indeed.com/rc/clk?jk=7a79bb284effb0ba&fccid=0aad0b277b718ea4&vjs=3', 'https://ca.indeed.com/rc/clk?jk=7a8af34b4ba3d3b1&fccid=fe2d21eef233e94a&vjs=3', 'https://ca.indeed.com/rc/clk?jk=d44ad171904566d9&fccid=22666a05860a68d0&vjs=3', 'https://ca.indeed.com/rc/clk?jk=059060c9b126e000&fccid=dc156e4b91443100&vjs=3', 'https://ca.indeed.com/rc/clk?jk=3ef14116b0f7e4a6&fccid=c1099851e9794854&vjs=3', 'https://ca.indeed.com/rc/clk?jk=378c04b4de73f9cd&fccid=6ce9eba87609c3e9&vjs=3', 'https://ca.indeed.com/rc/clk?jk=7ee5a7235ae8b97d&fccid=7ae83685be939814&vjs=3', 'https://ca.indeed.com/rc/clk?jk=6dc8af96508373fe&fccid=fe2d21eef233e94a&vjs=3', 'https://ca.indeed.com/rc/clk?jk=d81f07bc57ba4fc2&fccid=7136762d065a5ad7&vjs=3', 'https://ca.indeed.com/rc/clk?jk=6ce347955fe7cfe6&fccid=fe2d21eef233e94a&vjs=3', 'https://ca.indeed.com/rc/clk?jk=f5d5f14582673e1b&fccid=c1099851e9794854&vjs=3', 'https://ca.indeed.com/rc/clk?jk=a7c41bbce7877385&fccid=a5b4499d9e91a5c6&vjs=3', 'https://ca.indeed.com/rc/clk?jk=289f9dac2f5ba0a4&fccid=98eb9367230d83da&vjs=3', 'https://ca.indeed.com/rc/clk?jk=11e112edf3dc6d6a&fccid=8c49e99f20f89e48&vjs=3']\n"
     ]
    }
   ],
   "source": [
    "import os\n",
    "from selenium import webdriver\n",
    "from selenium.webdriver.common.keys import Keys\n",
    "\n",
    "import requests\n",
    "import bs4\n",
    "from bs4 import BeautifulSoup\n",
    "import pandas as pd\n",
    "import time\n",
    "\n",
    "import urllib.request\n",
    "from html.parser import HTMLParser\n",
    "\n",
    "#domain prefix for our user search\n",
    "url_prefix = \"https://www.indeed.com/jobs?q=\"\n",
    "\n",
    "#ask user what job they are looking for\n",
    "user_job_input = input(\"What job title are you searching for?\")\n",
    "\n",
    "#add plus between words and &l at the end (ie: Machine+Learning&l=)\n",
    "user_job_search = '+'.join(user_job_input.lower().split())\n",
    "\n",
    "#Add location to url \n",
    "user_location_input = input(\"What location do you want to search?\")\n",
    "\n",
    "#Add &L and then location to url \n",
    "user_location_search = '&l=' + '+'.join(user_location_input.lower().split())\n",
    "\n",
    "#start browser session and search using the terms user inputted\n",
    "chromedriver = \"/home/romtein/chromedriver\"\n",
    "os.environ[\"webdriver.chrome.driver\"] = chromedriver\n",
    "driver = webdriver.Chrome(chromedriver)\n",
    "\n",
    "urls = []\n",
    "i=0\n",
    "\n",
    "for b in range(1,50):\n",
    "    if i < 50:\n",
    "\n",
    "        complete_url = url_prefix + user_job_search + user_location_search + \"&start=\" +str(i) + \"0\"\n",
    "        driver.get(url_prefix + user_job_search + user_location_search + \"&start=\" + str(i) + \"0\")\n",
    "\n",
    "        htmlfile = urllib.request.urlopen(complete_url)\n",
    "        page = requests.get(complete_url)\n",
    "        soup = BeautifulSoup(page.text, 'html.parser')\n",
    "\n",
    "        time.sleep(1)\n",
    "\n",
    "        for link in soup.find_all(name = 'div', attrs={'class': 'row'}):\n",
    "            partial_url = link.a.get('href')\n",
    "            url = 'https://ca.indeed.com' + partial_url\n",
    "            urls.append(url)\n",
    "\n",
    "        i = i+1\n",
    "\n",
    "print(urls)        "
   ]
  },
  {
   "cell_type": "code",
   "execution_count": 49,
   "metadata": {},
   "outputs": [
    {
     "name": "stdout",
     "output_type": "stream",
     "text": [
      "[\"Machine Learning Engineer\\nElectronic Arts\\n-\\nRedwood City, CA 94065\\nElectronic Arts\\n437 reviews\\nRead what people are saying about working here.\\n\\nRequisition Number:154300\\nLocation:Redwood City\\nDate Opened:2019-01-12\\n\\nElectronic Arts Inc. is a leading global interactive entertainment software company. EA delivers games, content and online services for Internet-connected consoles, personal computers, mobile phones and tablets.\\n\\nWe are EA\\n\\nElectronic Arts is more than you’ve ever realized. We’re more than a company, or a headline, or even a clever catchphrase – we’re a vibrant community of over 8,000 artists, storytellers, technologists and innovators working toward a shared vision: to inspire and unite through play.\\n\\nWhile headquartered in Redwood City, EA's platform engineering, game development, and publishing operations take place in a network of locations, stretching from Shanghai to Stockholm, Melbourne to Vancouver. No matter which of our studio locations you join, you’ll feel the energy and support of EA’s global brand, while immersing yourself in a culture that inspires you to thrive, take risks and dream big. Our unique studios create amazingly creative and fun games - fast paced puzzles, adrenaline filled warfare, galaxy spanning adventures, high speed racing, and sports so realistic you can practically feel the grass under your feet.\\n\\nThe Challenge Ahead:\\n\\nEA’s Digital Platform (EADP) organization is responsible for driving critical technology decisions and investments for EA on a global basis, across all divisions and studio teams. Technology and engineering leadership at EA is critical to making the industry’s best games and services and the EADP team is leading the way to providing cross-platform infrastructure that will keep our consumers connected with our games anytime, anywhere with anyone.\\n\\nWhat a Machine Learning Engineer, Player Reliability does at EA:\\n\\nThis unique role will be perfect for an individual who likes to find innovative ways of building powerful data-driven systems to inform automated recovery actions. If the idea of pattern and signal analysis, extracting meaning out of petabytes of data and analyzing complex technical architecture across EA to understand underlying drivers and root causes of de-stabilization sounds exciting, then this is the path for you. Success has customers spending more hours with our portfolio of games because they are fast and reliable; having “EA Servers” powering a game becomes a competitive differentiator. This effort requires expertise spanning platform technologies, infrastructure technologies, and game engine and client technology across EA’s broad portfolio of mobile, console and PC games as well as other consumer facing touch points.\\n\\nProjects and Responsibilities may include:\\n\\nExtract information from huge amounts of social media, email, chat and phone data\\nDevelop a better understanding of service availability issues and leverage data to build a prediction and prevention system\\nAutomate issue detection and resolution processes\\nBuild and implement in-depth analyses and data visualizations\\nDesign, develop, and run experiments to gauge effectiveness of metrics\\nPartner closely with customer service teams to understand how to better communicate and resolve service availability issues\\n\\nThe next great EA Data Science, Player Reliability needs:\\n\\nMaster's in Computer Science, Statistics, Operations Research or related field\\nMachine learning, AI - relevant experience or coursework\\nAbility to define and manage an independent project-from exploratory data analysis to model building, implementation and evaluation\\nStrong programming expertise in Python\\nFamiliarity with a statistical software package such as R, SAS or Stata\\nExperience querying databases and distributed data tools\\nA passion for gaming and a highly analytical and creative thinker\\nEA is an equal opportunity employer. All employment decisions are made without regard to race, color, national origin, ancestry, sex, gender, gender identity or expression, sexual orientation, age, genetic information, religion, disability, medical condition, pregnancy, marital status, family status, veteran status, or any other characteristic protected by law. We will also consider for employment qualified applicants with criminal records in accordance with applicable law. EA also makes workplace accommodations for qualified individuals with disabilities as required by applicable law.\\n\\nElectronic Arts - 5 hours ago - report job - original job\\nApply Now\\nSave this job\\nMachine Learning Engineer jobs in Redwood City, CA\\nJobs at Electronic Arts in Redwood City, CA\\nMachine Learning Engineer salaries in Redwood City, CA\"]\n"
     ]
    }
   ],
   "source": [
    "chromedriver = \"/home/romtein/chromedriver\"\n",
    "os.environ[\"webdriver.chrome.driver\"] = chromedriver\n",
    "driver = webdriver.Chrome(chromedriver)\n",
    "\n",
    "#open each link, extract complete description and add to json or csv\n",
    "\n",
    "full_job_description = []\n",
    "\n",
    "for c in range(1,50):\n",
    "    driver.get(urls[c])\n",
    "    time.sleep(1)\n",
    "    htmlfile = urllib.request.urlopen(urls[c])\n",
    "    page = requests.get(urls[c])\n",
    "    soup = BeautifulSoup(page.text, 'html.parser')\n",
    "    description = driver.find_element_by_tag_name(\"body\").get_attribute(\"innerText\")\n",
    "    [i.replace(\"\\n\", \" \") for i in description]\n",
    "    full_job_description.append(description)\n",
    "    \n",
    "driver.close()\n",
    "print(full_job_description)\n"
   ]
  },
  {
   "cell_type": "code",
   "execution_count": 41,
   "metadata": {},
   "outputs": [],
   "source": []
  },
  {
   "cell_type": "code",
   "execution_count": null,
   "metadata": {},
   "outputs": [],
   "source": []
  },
  {
   "cell_type": "code",
   "execution_count": null,
   "metadata": {},
   "outputs": [],
   "source": []
  },
  {
   "cell_type": "code",
   "execution_count": null,
   "metadata": {},
   "outputs": [],
   "source": []
  },
  {
   "cell_type": "code",
   "execution_count": null,
   "metadata": {},
   "outputs": [],
   "source": []
  },
  {
   "cell_type": "code",
   "execution_count": null,
   "metadata": {},
   "outputs": [],
   "source": []
  }
 ],
 "metadata": {
  "kernelspec": {
   "display_name": "Python 3",
   "language": "python",
   "name": "python3"
  },
  "language_info": {
   "codemirror_mode": {
    "name": "ipython",
    "version": 3
   },
   "file_extension": ".py",
   "mimetype": "text/x-python",
   "name": "python",
   "nbconvert_exporter": "python",
   "pygments_lexer": "ipython3",
   "version": "3.6.8"
  }
 },
 "nbformat": 4,
 "nbformat_minor": 2
}
